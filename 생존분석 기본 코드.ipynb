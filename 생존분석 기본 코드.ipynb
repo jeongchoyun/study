{
 "cells": [
  {
   "cell_type": "raw",
   "id": "c553b33c-9185-49b2-8c1b-68d1e3dfd4aa",
   "metadata": {},
   "source": [
    "---\n",
    "title: \"생존 분석 기본 코드\"\n",
    "author: \"정초윤\"\n",
    "---"
   ]
  },
  {
   "cell_type": "code",
   "execution_count": 3,
   "id": "0a7b15f9-6080-4602-9727-fdeed2bfe883",
   "metadata": {},
   "outputs": [],
   "source": [
    "library(dplyr)\n",
    "library(survival)\n",
    "library(moonBook)\n",
    "library(survival)\n",
    "library(survminer)"
   ]
  },
  {
   "cell_type": "markdown",
   "id": "6a80f8b0-15d0-4f2c-a968-fdc10fc76223",
   "metadata": {},
   "source": [
    "## 1. No competing risk"
   ]
  },
  {
   "cell_type": "markdown",
   "id": "9230f22f-ebd2-49c5-9cda-0907084b4d38",
   "metadata": {},
   "source": [
    "### 1. 데이터 읽기"
   ]
  },
  {
   "cell_type": "code",
   "execution_count": 4,
   "id": "960fbc4c-c078-4b86-8ae0-77f01512f1a1",
   "metadata": {},
   "outputs": [],
   "source": [
    "data = data.frame(data.table::fread(\"파일명\"))"
   ]
  },
  {
   "cell_type": "markdown",
   "id": "dbc0515f-dae6-43e6-82d6-caab9f44a2d3",
   "metadata": {},
   "source": [
    "### 2. 데이터 전처리"
   ]
  },
  {
   "cell_type": "markdown",
   "id": "24896cc2-6feb-4c51-ac1d-e1de3dfc35ee",
   "metadata": {},
   "source": [
    "#### 2.1 날짜형 수정"
   ]
  },
  {
   "cell_type": "code",
   "execution_count": 6,
   "id": "a81c8ba4-3468-4c75-b412-6ea45d58d4d7",
   "metadata": {},
   "outputs": [],
   "source": [
    "as.Date(as.character(data1$\"문자형 변수명\"),format=\"%Y%m%d\")"
   ]
  },
  {
   "cell_type": "markdown",
   "id": "3dcda0d0-8653-4a31-9ca4-2c442967e42b",
   "metadata": {},
   "source": [
    "#### 2.2 범주화\n",
    "> 기준이 다른 변수들을 한번에 쉽게 코드화 할 수 있는지 공부하기"
   ]
  },
  {
   "cell_type": "code",
   "execution_count": 8,
   "id": "ddaaa4bc-9d09-4924-82a1-9ef3e829078a",
   "metadata": {},
   "outputs": [],
   "source": [
    "data$\"변수명\" = ifelse(data$\"변수명\" == 1 , \"YES\",\"NO\")\n",
    "data$\"변수명\" = factor(data$\"변수명\", levels = c(\"YES\",\"NO\"))"
   ]
  },
  {
   "cell_type": "markdown",
   "id": "b36d7c79-7bf4-4d11-8d5a-bd9093b201ad",
   "metadata": {},
   "source": [
    "### 3. Table 1"
   ]
  },
  {
   "cell_type": "code",
   "execution_count": null,
   "id": "1cf576cf-7339-4d54-a69c-d03e08e37c6a",
   "metadata": {},
   "outputs": [],
   "source": [
    "t1 = tableone::CreateTableOne(vars=c(\"변수명 집합\"),strata = \"기준 변수\",data=data,test=F, addOverall = T)\n",
    "# write.csv(print(t1,smd=T),\"AnyC_DTH_t1.csv\")"
   ]
  },
  {
   "cell_type": "markdown",
   "id": "d6ba6957-d6f5-4e77-bcc3-c90ad40307fe",
   "metadata": {},
   "source": [
    "### 4. 중도 절단 고려한 생존기간 설정"
   ]
  },
  {
   "cell_type": "code",
   "execution_count": 11,
   "id": "ea2fec99-ad59-481f-98ad-6c4536c7fc0a",
   "metadata": {},
   "outputs": [],
   "source": [
    "# library(survival)\n",
    "\n",
    "Surv(data$\"생존 시간 변수\", data$\"타겟 변수\" == 1)\n",
    "\n",
    "summary(Surv(data$\"생존 시간 변수\", data$\"타겟 변수\" == 1))\n",
    "\n",
    "# 특정 시간 생존률\n",
    "summary(survfit(Surv(data$\"생존 시간 변수\", data$\"타겟 변수\" == 1) ~ \"기준 변수\", data = data), c(1,3)*365.25)"
   ]
  },
  {
   "cell_type": "markdown",
   "id": "a01186a5-81dc-46ab-8865-f02ea49c1736",
   "metadata": {},
   "source": [
    "### 5. Kaplan-Meiere function"
   ]
  },
  {
   "cell_type": "markdown",
   "id": "48b17283-887e-48c7-8d39-4ebb774adb46",
   "metadata": {},
   "source": [
    "`-` 1년 단위 설정"
   ]
  },
  {
   "cell_type": "code",
   "execution_count": null,
   "id": "0f671912-4c90-4fed-a6ed-aee6e0d64152",
   "metadata": {},
   "outputs": [],
   "source": [
    "xscale = \"d_y\"\n",
    "xtrans <- switch(xscale,\n",
    "                 d_m = 12/365.25,\n",
    "                 d_y = 1/365.25,\n",
    "                 m_d = 365.25/12,\n",
    "                 m_y = 1/12,\n",
    "                 y_d = 365.25,\n",
    "                 y_m =12,\n",
    "                 1)\n",
    "\n",
    "breaks = seq(0,1250,730)\n"
   ]
  },
  {
   "cell_type": "markdown",
   "id": "c2498291-fdf7-4b08-ae24-25ee66f9811b",
   "metadata": {},
   "source": [
    "`-` 그래프"
   ]
  },
  {
   "cell_type": "code",
   "execution_count": null,
   "id": "141e0cbc-e90b-4cb5-97b4-dc3d20590d3c",
   "metadata": {},
   "outputs": [],
   "source": [
    "library(survminer)\n",
    "\n",
    "ggsurvplot(survfit(Surv(data$\"생존 시간 변수\", data$\"타겟 변수\" == 1) ~ \"기준 변수\",data=data),\n",
    "            data= data,\n",
    "            fun=\"event\",\n",
    "            size=1,\n",
    "            palette = c(\"#2E9FDF\",\"#df2e46\"),\n",
    "            censor=F,\n",
    "            conf.int=T,\n",
    "            surv.scale = \"percent\",\n",
    "            pval = T,\n",
    "            pval.coord = c(0.2, 0.2),\n",
    "            xscale = \"d_y\",\n",
    "            break.x.by = 365.25*2,\n",
    "            xlim = c(0,3700),\n",
    "            xlab = \"Years\",\n",
    "            ylab = \"Cumulative incidence probability (%)\",\n",
    "            legend.labs = c(\"대조군\", \"실험군\"),\n",
    "            legend.title = \"Group\",\n",
    "            legend = c(0.1, 0.85),\n",
    "            risk.table = \"nrisk_cumevents\",\n",
    "            risk.table.col=\"기준 변수\",\n",
    "            risk.table.height = 0.2)\n",
    "            # fontsize = 3,\n",
    "            # ggtheme = theme_bw())"
   ]
  },
  {
   "cell_type": "markdown",
   "id": "426f0879-95d4-4bcc-801f-1f6fb191592f",
   "metadata": {},
   "source": [
    "### 5. Various statistical metrics"
   ]
  },
  {
   "cell_type": "markdown",
   "id": "87398334-06b2-4393-ac5f-b95531347a24",
   "metadata": {},
   "source": [
    "#### 5.1 Hazard ratio\n",
    "> Adjusted와 conditional (Unadjusted와 marginal)은 자세히 공부하면 상호교환 가능 단어가 아니라는 논문이 있지만 여기서는 같은 의미로 작성함."
   ]
  },
  {
   "cell_type": "markdown",
   "id": "4a906255-816d-408c-aa47-9228934169c4",
   "metadata": {},
   "source": [
    "`-` Unadjusted HR"
   ]
  },
  {
   "cell_type": "code",
   "execution_count": null,
   "id": "106d2249-1d0b-43ec-a474-5803ea622343",
   "metadata": {},
   "outputs": [],
   "source": [
    "# library(moonBook)\n",
    "\n",
    "out = mycph(Surv(data$\"생존 시간 변수\", data$\"타겟 변수\" == 1) ~ ., data=data)\n",
    "\n",
    "HRplot(out)\n",
    "\n",
    "coef = out\n",
    "\n",
    "paste0(sprintf(\"%.2f\",coef[row,1]),\"(\", sprintf(\"%.2f\",coef[row,2]),\"-\", sprintf(\"%.2f\",coef[row,3]),\")\")"
   ]
  },
  {
   "cell_type": "markdown",
   "id": "209be1b7-8f6f-41c1-8b06-d51296cfa4ce",
   "metadata": {},
   "source": [
    "`-` Adjusted HR"
   ]
  },
  {
   "cell_type": "code",
   "execution_count": null,
   "id": "7b14dc4a-1b98-4f2e-9884-5aa0a22c3251",
   "metadata": {},
   "outputs": [],
   "source": [
    "out2 = coxph(Surv(data$\"생존 시간 변수\", data$\"타겟 변수\" == 1) ~ ., data=data)\n",
    "\n",
    "HRplot(out2,show.CI=T)\n",
    "\n",
    "coef = summary(out2)$coefficients\n",
    "\n",
    "coef[row,2]\n",
    "\n",
    "exp(coef[row,1]-1.96*coef[row,3])\n",
    "\n",
    "exp(coef[row,1]+1.96*coef[row,3])\n",
    "\n",
    "paste0(round(coef[row,2],2),\"(\", round(exp(coef[row,1]-1.96*coef[row,3]),2),\"-\", round(exp(coef[row,1]+1.96*coef[row,3]),2),\")\")"
   ]
  },
  {
   "cell_type": "markdown",
   "id": "5b6849a7-35fc-4523-ae01-306934aab554",
   "metadata": {},
   "source": [
    "#### 5.2 p for interaction"
   ]
  },
  {
   "cell_type": "markdown",
   "id": "5dd4fba3-9767-4596-a264-279dd4df5709",
   "metadata": {},
   "source": [
    "`-` Unadjusted interaction"
   ]
  },
  {
   "cell_type": "code",
   "execution_count": null,
   "id": "ed733100-048f-491b-bcb0-2b45b469a690",
   "metadata": {},
   "outputs": [],
   "source": [
    "fit1 = coxph(Surv(data$\"생존 시간 변수\", data$\"타겟 변수\" == 1) ~ \"변수1\" + \"변수2\", data = data)\n",
    "fit2 = coxph(Surv(data$\"생존 시간 변수\", data$\"타겟 변수\" == 1) ~ \"변수1\" + \"변수2\" + \"변수1\":\"변수2\", data = data)\n",
    "interaction = anova(fit1, fit2)\n",
    "interaction$`Pr(>|Chi|)`[2]"
   ]
  },
  {
   "cell_type": "markdown",
   "id": "8ae890ab-98d1-4eac-85a1-39e3f3c1fb5a",
   "metadata": {},
   "source": [
    "`-` Adjusted interaction"
   ]
  },
  {
   "cell_type": "code",
   "execution_count": null,
   "id": "d96eab54-a396-4ffb-a1b0-a4f546e0772d",
   "metadata": {},
   "outputs": [],
   "source": [
    "fit1 = coxph(Surv(data$\"생존 시간 변수\", data$\"타겟 변수\" == 1) ~ ., data = data)\n",
    "fit2 = coxph(Surv(data$\"생존 시간 변수\", data$\"타겟 변수\" == 1) ~ . + AnyC_:Sex_, data = data)\n",
    "interaction = anova(a, b)\n",
    "interaction$`Pr(>|Chi|)`[2]"
   ]
  },
  {
   "cell_type": "markdown",
   "id": "44464a3b-7c5b-471a-bef1-b1283f5b9a51",
   "metadata": {},
   "source": [
    "#### 5.3 10000 person-year"
   ]
  },
  {
   "cell_type": "code",
   "execution_count": null,
   "id": "6d92ff1b-3865-4951-9fce-1e4def9cc3df",
   "metadata": {},
   "outputs": [],
   "source": [
    "py10000 = sum(data[data[,colName]==con,]$\"타겟 변수\") / (sum(as.numeric(data[data[,colName]==con,]$\"생존 시간 변수\")) / 365)*10000"
   ]
  },
  {
   "cell_type": "markdown",
   "id": "6607a175-3cbf-42c6-8aa9-ce46936a8fa2",
   "metadata": {},
   "source": [
    "#### 5.4 SMD"
   ]
  },
  {
   "cell_type": "code",
   "execution_count": null,
   "id": "ca92876b-1450-492c-8223-79c1bfba85eb",
   "metadata": {},
   "outputs": [],
   "source": [
    "tableone::ExtractSmd(tableone::CreateCatTable(c(\"변수명 집합\"),\"기준 변수\",data=data))"
   ]
  },
  {
   "cell_type": "markdown",
   "id": "cc8c85bb-3df0-4703-b39d-e43429b1c802",
   "metadata": {},
   "source": [
    "## 2. Competing risk"
   ]
  },
  {
   "cell_type": "markdown",
   "id": "f8ab3dbf-8028-4919-b640-3ab6e825e870",
   "metadata": {},
   "source": [
    "`-` 경쟁 위험은 타겟 별 원인 변수가 필요함  \n",
    "`-` library(cmprsk) crr() 함수"
   ]
  },
  {
   "cell_type": "code",
   "execution_count": null,
   "id": "2b020c3d-b9b4-4cb6-8e04-1ee2e4a3c410",
   "metadata": {},
   "outputs": [],
   "source": [
    "library(cmprsk)"
   ]
  },
  {
   "cell_type": "markdown",
   "id": "35034bfe-c2c1-4e55-8d21-0592b4bb411e",
   "metadata": {},
   "source": [
    "`-` Subdistribution hazard ratio"
   ]
  },
  {
   "cell_type": "code",
   "execution_count": null,
   "id": "6fb15aa2-30c7-49d2-9433-5c374fd22e12",
   "metadata": {},
   "outputs": [],
   "source": [
    "# 모델에 들어갈 변수 cbind\n",
    "cov.mat = cbind(data$\"변수명\")\n",
    "\n",
    "crr.1 = crr(data$\"생존기간 변수\",data$\"원인 별 변수\",cov.mat, failcode = \"관심 원인 값\",cencode=\"중도 절단 값\"))\n",
    "\n",
    "Subdistribution_coef = summary(crr.1)$coef\n",
    "\n",
    "paste(Subdistribution_coef[1,2], \"(\", exp(Subdistribution_coef[1,1]-1.96*Subdistribution_coef[1,3]),\"-\", exp(Subdistribution_coef[1,1]+1.96*Subdistribution_coef[1,3]),\")\" )"
   ]
  },
  {
   "cell_type": "markdown",
   "id": "1a278676-14e1-4779-9821-d47902865b2e",
   "metadata": {},
   "source": [
    "`-` cause‐specific hazard ratio"
   ]
  },
  {
   "cell_type": "code",
   "execution_count": null,
   "id": "06508049-70cf-4ae1-ba45-a1bb20847699",
   "metadata": {},
   "outputs": [],
   "source": [
    "coxph.1 = coxph(Surv(data$\"생존기간 변수\", data$\"원인 별 변수\" == \"관심 원인 값\") ~ data$\"기준 변수\")\n",
    "\n",
    "cause_coef = summary(crr.1)$coef\n",
    "\n",
    "paste(cause_coef[1,2], \"(\", exp(cause_coef[1,1]-1.96*cause_coef[1,3]),\"-\", exp(cause_coef[1,1]+1.96*cause_coef[1,3]),\")\" )"
   ]
  },
  {
   "cell_type": "markdown",
   "id": "09af28b1-9a6c-4a39-a917-798b95548dac",
   "metadata": {},
   "source": [
    "`-` Cumulative incidence function\n",
    ">  정리 필요"
   ]
  },
  {
   "cell_type": "code",
   "execution_count": null,
   "id": "07daf014-780a-4692-88dd-c1f5bf3664d9",
   "metadata": {},
   "outputs": [],
   "source": [
    "data$TS = Surv(data$survDt, data$isDTH == 1)\n",
    "\n",
    "# summary(data$TS)\n",
    "\n",
    "# summary(survfit(TS~AnyC_,data=data), c(1,3)*365.25)\n",
    "\n",
    "TSCol = grep(\"TS\",names(data))\n",
    "\n",
    "cif1 <- cuminc(ftime=data$\"생존기간 변수\",fstatus=data$\"원인 별 변수\", data$\"기준 변수\", cencode=\"중도 절단 값\") \n",
    "\n",
    "plot(survfit(Surv(data$\"생존시간변수\", data$isDTH == 1) ~ \"기준 변수\", data=data)$time, 1 - survfit(Surv(data$\"생존시간변수\", data$isDTH == 1) ~ \"기준 변수\",data=data)$surv, ylab=\"Probability\")\n",
    "\n",
    "lines(cif1$`\"기준 변수1\" 1`$time, cif1$`\"기준 변수1\" 1`$est, type=\"l\", ylim=c(0,3), xlab=\"Survival time (days)\",ylab=\"Probability\", lwd = 3, lty=1,col=\"black\") \n",
    "lines(cif1$`\"기준 변수2\" 1`$time, cif1$`\"기준 변수2\" 1`$est, type=\"l\", ylim=c(0,0.3), xlab=\"Survival time (days)\",ylab=\"Probability\", lwd = 3, lty=1,col=\"orange\")\n",
    "\n",
    "lines(cif1$`\"기준 변수1\" 2`$time, cif1$`\"기준 변수1\" 2`$est, type=\"l\", ylim=c(0,0.3), xlab=\"Survival time (days)\",ylab=\"Probability\", lwd = 3, lty=1,col=\"blue\") \n",
    "lines(cif1$`\"기준 변수2\" 2`$time, cif1$`\"기준 변수2\" 2`$est, type=\"l\", ylim=c(0,0.3), xlab=\"Survival time (days)\",ylab=\"Probability\", lwd = 3, lty=1,col=\"red\") \n",
    "\n",
    "title(\"Figure 1. Cumulative Incidence functions\")\n",
    "legend(\"topleft\", legend = c(\"All-cause death (1-KM)/Sum of two CIFs\",\"Top5\", \"others\"), lty = c(1,1,1), col = c(\"black\",\"orange\",\"red\"), bty=\"n\") "
   ]
  }
 ],
 "metadata": {
  "kernelspec": {
   "display_name": "R",
   "language": "R",
   "name": "ir"
  },
  "language_info": {
   "codemirror_mode": "r",
   "file_extension": ".r",
   "mimetype": "text/x-r-source",
   "name": "R",
   "pygments_lexer": "r",
   "version": "4.3.2"
  }
 },
 "nbformat": 4,
 "nbformat_minor": 5
}
