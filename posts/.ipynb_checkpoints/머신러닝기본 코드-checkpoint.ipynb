{
 "cells": [
  {
   "cell_type": "raw",
   "id": "25ae4afc-4613-4ee4-b2cc-c2ad996fa455",
   "metadata": {},
   "source": [
    "---\n",
    "title: \"머신러닝 기본 코드\"\n",
    "author: \"정초윤\"\n",
    "---"
   ]
  },
  {
   "cell_type": "code",
   "execution_count": null,
   "id": "85854b8d-a842-4b33-92b2-0d4f8d421029",
   "metadata": {},
   "outputs": [],
   "source": [
    "library(tidyverse)\n",
    "library(gridExtra)\n",
    "library(ROCR)\n",
    "library(ggplot2)\n",
    "library(MASS)\n",
    "library(glmnet)\n",
    "library(randomForest)\n",
    "library(rpart)\n",
    "library(e1071)\n",
    "library(nnet)\n",
    "library(dplyr)"
   ]
  },
  {
   "cell_type": "markdown",
   "id": "f3eed413-c57d-44bd-b5a4-52aa1f8c87d8",
   "metadata": {},
   "source": [
    "### 1. 데이터 읽기"
   ]
  },
  {
   "cell_type": "code",
   "execution_count": 12,
   "id": "6eb5ef9c-1a60-4c7d-a666-1fdcf94c8181",
   "metadata": {},
   "outputs": [
    {
     "data": {
      "text/html": [
       "<style>\n",
       ".list-inline {list-style: none; margin:0; padding: 0}\n",
       ".list-inline>li {display: inline-block}\n",
       ".list-inline>li:not(:last-child)::after {content: \"\\00b7\"; padding: 0 .5ex}\n",
       "</style>\n",
       "<ol class=list-inline><li>5120</li><li>21</li></ol>\n"
      ],
      "text/latex": [
       "\\begin{enumerate*}\n",
       "\\item 5120\n",
       "\\item 21\n",
       "\\end{enumerate*}\n"
      ],
      "text/markdown": [
       "1. 5120\n",
       "2. 21\n",
       "\n",
       "\n"
      ],
      "text/plain": [
       "[1] 5120   21"
      ]
     },
     "metadata": {},
     "output_type": "display_data"
    }
   ],
   "source": [
    "# library(tidyverse)\n",
    "anal = read.csv(\"파일명\", header = TRUE)  # no missing values"
   ]
  },
  {
   "cell_type": "markdown",
   "id": "60361dd9-1e9f-4f7f-b37a-fa96bf8b0382",
   "metadata": {
    "jp-MarkdownHeadingCollapsed": true
   },
   "source": [
    "#### 1.1 데이터 확인"
   ]
  },
  {
   "cell_type": "code",
   "execution_count": null,
   "id": "f5bd7a99-9bcf-49e5-bf06-6efa4ce05e59",
   "metadata": {},
   "outputs": [],
   "source": [
    "dim(anal)\n",
    "summary(anal)"
   ]
  },
  {
   "cell_type": "markdown",
   "id": "3125ac95-06ef-4d92-9112-635ab2f06587",
   "metadata": {},
   "source": [
    "#### 1.2 결측치 처리"
   ]
  },
  {
   "cell_type": "markdown",
   "id": "f4f8fcdd-38f2-4d2b-b55d-5c26c40d257f",
   "metadata": {
    "jp-MarkdownHeadingCollapsed": true
   },
   "source": [
    "##### 1) 평균화"
   ]
  },
  {
   "cell_type": "code",
   "execution_count": 4,
   "id": "f6e02456-1c6c-4c8e-809a-9b9ae69f65f4",
   "metadata": {},
   "outputs": [
    {
     "data": {
      "text/html": [
       "<style>\n",
       ".list-inline {list-style: none; margin:0; padding: 0}\n",
       ".list-inline>li {display: inline-block}\n",
       ".list-inline>li:not(:last-child)::after {content: \"\\00b7\"; padding: 0 .5ex}\n",
       "</style>\n",
       "<ol class=list-inline><li>'SBP'</li><li>'DBP'</li><li>'HbA1c'</li><li>'Total.Cholesterol'</li><li>'HDL'</li><li>'Hemoglobin'</li><li>'LDL'</li></ol>\n"
      ],
      "text/latex": [
       "\\begin{enumerate*}\n",
       "\\item 'SBP'\n",
       "\\item 'DBP'\n",
       "\\item 'HbA1c'\n",
       "\\item 'Total.Cholesterol'\n",
       "\\item 'HDL'\n",
       "\\item 'Hemoglobin'\n",
       "\\item 'LDL'\n",
       "\\end{enumerate*}\n"
      ],
      "text/markdown": [
       "1. 'SBP'\n",
       "2. 'DBP'\n",
       "3. 'HbA1c'\n",
       "4. 'Total.Cholesterol'\n",
       "5. 'HDL'\n",
       "6. 'Hemoglobin'\n",
       "7. 'LDL'\n",
       "\n",
       "\n"
      ],
      "text/plain": [
       "[1] \"SBP\"               \"DBP\"               \"HbA1c\"            \n",
       "[4] \"Total.Cholesterol\" \"HDL\"               \"Hemoglobin\"       \n",
       "[7] \"LDL\"              "
      ]
     },
     "metadata": {},
     "output_type": "display_data"
    }
   ],
   "source": [
    "cols = c(names(anal)[colSums(is.na(anal)) > 0])\n",
    "cols\n",
    "for (col in cols) {\n",
    "  means <- mean(anal[[col]], na.rm = TRUE)  \n",
    "  anal[[col]][is.na(anal[[col]])] <- means\n",
    "}"
   ]
  },
  {
   "cell_type": "code",
   "execution_count": 5,
   "id": "0caf1644-a09c-48d1-b3c7-39bf3344cb2e",
   "metadata": {},
   "outputs": [],
   "source": [
    "anal1 = anal\n",
    "anal1[, 12:length(anal1)] = lapply(anal[, 12:length(anal)], function(x) as.factor(ifelse(x == 0, \"NO\", \"YES\")))"
   ]
  },
  {
   "cell_type": "markdown",
   "id": "2321d7f1-b8e6-463c-ab48-8ff71f916ec4",
   "metadata": {
    "jp-MarkdownHeadingCollapsed": true
   },
   "source": [
    "### 2.셋 분할"
   ]
  },
  {
   "cell_type": "code",
   "execution_count": 6,
   "id": "4436a5f6-0e57-492f-a506-484d96da6488",
   "metadata": {},
   "outputs": [],
   "source": [
    "#-------------------------------------------------------\n",
    "set.seed(1)\n",
    "\n",
    "n = nrow(anal1)\n",
    "id = 1:n\n",
    "train_id = sample(id, n*0.6)\n",
    "valid_id = sample(id[-train_id], n*0.2)\n",
    "test_id = sample(id[-c(train_id, valid_id)])\n",
    "\n",
    "#-------------------------------------------------------\n",
    "\n",
    "# x,y가 한 셋이 있는 셋은 데이터프레임 형식으로\n",
    "train = anal1[train_id,]\n",
    "validation = anal1[valid_id,]\n",
    "\n",
    "# x,y가 한 분뢰 있는 셋은 x는 매트릭스,  y는 숫자형\n",
    "XX = model.matrix(kidney_yn ~ ., anal1)[,-1]\n",
    "\n",
    "x_train = XX[train_id,]\n",
    "y_train = ifelse(train$kidney_yn == \"YES\", 1, 0)\n",
    "\n",
    "x_validation = XX[valid_id,]\n",
    "y_validation = ifelse(validation$kidney_yn == \"YES\", 1, 0)"
   ]
  },
  {
   "cell_type": "markdown",
   "id": "0dbf0269-5cbb-4c37-ab59-e5115b737518",
   "metadata": {
    "jp-MarkdownHeadingCollapsed": true
   },
   "source": [
    "### 3. 적합\n",
    "> 로지스틱 정규화 모형은 X, y 매트릭스 형식  \n",
    "> 랜덤포레스트, NN은 X,y가 같이있는 데이터프레임 형식"
   ]
  },
  {
   "cell_type": "code",
   "execution_count": 7,
   "id": "57fe9f64-5d4f-4f65-a6a7-df53fa237cfa",
   "metadata": {},
   "outputs": [
    {
     "name": "stdout",
     "output_type": "stream",
     "text": [
      "# weights:  221\n",
      "initial  value 1928.754702 \n",
      "iter  10 value 1552.449084\n",
      "iter  20 value 1529.381120\n",
      "iter  30 value 1494.513490\n",
      "iter  40 value 1472.187084\n",
      "iter  50 value 1457.636536\n",
      "iter  60 value 1437.105959\n",
      "iter  70 value 1426.958487\n",
      "iter  80 value 1422.342414\n",
      "iter  90 value 1416.325869\n",
      "iter 100 value 1408.325402\n",
      "final  value 1408.325402 \n",
      "stopped after 100 iterations\n"
     ]
    },
    {
     "data": {
      "text/html": [
       "<strong>png:</strong> 2"
      ],
      "text/latex": [
       "\\textbf{png:} 2"
      ],
      "text/markdown": [
       "**png:** 2"
      ],
      "text/plain": [
       "png \n",
       "  2 "
      ]
     },
     "metadata": {},
     "output_type": "display_data"
    }
   ],
   "source": [
    "set.seed(1)\n",
    "\n",
    "# 라쏘\n",
    "fit_l1 = cv.glmnet(x_train, y_train, nfolds=10, alpha = 1, family='binomial')\n",
    "yhat_l1 = predict(fit_l1, s=\"lambda.1se\", newx= x_validation, type='response')\n",
    "\n",
    "# EN\n",
    "fit_l.5 = cv.glmnet(x_train, y_train, nfolds=10, alpha = 0.5, family='binomial')\n",
    "yhat_l.5 = predict(fit_l.5, s=\"lambda.1se\", newx= x_validation, type='response')\n",
    "\n",
    "# 릿지\n",
    "fit_l2 = cv.glmnet(x_train, y_train, nfolds=10, alpha = 0, family='binomial')\n",
    "yhat_l2 = predict(fit_l2, s=\"lambda.1se\", newx= x_validation, type='response')\n",
    "\n",
    "# 랜덤포레스트\n",
    "fit_RF = randomForest(kidney_yn ~ . , train)\n",
    "yhat_RF = predict(fit_RF, newdata = validation, type = 'prob')[,2]\n",
    "\n",
    "# SVM\n",
    "fit_SVM = svm(kidney_yn ~ ., data=train, gamma=0.001, cost = 10, probability=T)\n",
    "yhat_SVM = attr(predict(fit_SVM, newdata=validation, probability = TRUE),\"probabilities\")[,1]\n",
    "\n",
    "# NN\n",
    "fit_NN = nnet(kidney_yn ~ ., train, size=10)\n",
    "yhat_NN = predict(fit_NN, newdata=validation, type=\"raw\")\n"
   ]
  },
  {
   "cell_type": "markdown",
   "id": "e35f0240-9564-40b5-9978-f9da66f6ba78",
   "metadata": {},
   "source": [
    "### 3. 평가 지표"
   ]
  },
  {
   "cell_type": "markdown",
   "id": "40b8e21d-3c31-4aa0-868d-0f3d61328ea7",
   "metadata": {
    "jp-MarkdownHeadingCollapsed": true
   },
   "source": [
    "#### 3.1 이항 편차"
   ]
  },
  {
   "cell_type": "code",
   "execution_count": null,
   "id": "9260ca1b-ed27-4aa6-a764-7dc8c408fd94",
   "metadata": {},
   "outputs": [],
   "source": [
    "# defining binomial deviance function\n",
    "\n",
    "binomial_deviance <- function(y_obs, yhat){\n",
    "  epsilon = 0.0001\n",
    "  yhat = ifelse(yhat < epsilon, epsilon, yhat)\n",
    "  yhat = ifelse(yhat > 1-epsilon, 1-epsilon, yhat)\n",
    "  a = ifelse(y_obs==0, 0, y_obs * log(y_obs/yhat))\n",
    "  b = ifelse(y_obs==1, 0, (1-y_obs) * log((1-y_obs)/(1-yhat)))\n",
    "  return(2*sum(a + b))\n",
    "}\n",
    "binomial_deviance(y_validation, yhat_l1)\n",
    "binomial_deviance(y_validation, yhat_l.5)\n",
    "binomial_deviance(y_validation, yhat_l2)\n",
    "binomial_deviance(y_validation, yhat_RF)"
   ]
  },
  {
   "cell_type": "markdown",
   "id": "af6a8a63-9fcd-43c2-a30f-b7f5b765a022",
   "metadata": {
    "jp-MarkdownHeadingCollapsed": true
   },
   "source": [
    "#### 3.2 AUC, ROC curve"
   ]
  },
  {
   "cell_type": "code",
   "execution_count": null,
   "id": "fe44f6ed-46f6-4312-9b62-a4cc798423de",
   "metadata": {},
   "outputs": [],
   "source": [
    "pred_l1 <- prediction(yhat_l1, y_validation)\n",
    "perf_l1 <- performance(pred_l1, measure = \"tpr\", x.measure = \"fpr\")\n",
    "\n",
    "pred_l.5 <- prediction(yhat_l.5, y_validation)\n",
    "perf_l.5 <- performance(pred_l.5, measure = \"tpr\", x.measure = \"fpr\")\n",
    "\n",
    "pred_l2 <- prediction(yhat_l2, y_validation)\n",
    "perf_l2 <- performance(pred_l2, measure = \"tpr\", x.measure = \"fpr\")\n",
    "\n",
    "pred_RF <- prediction(yhat_RF, y_validation)\n",
    "perf_RF <- performance(pred_RF, measure = \"tpr\", x.measure = \"fpr\")\n",
    "\n",
    "pred_SVM <- prediction(yhat_SVM, y_validation)\n",
    "perf_SVM <- performance(pred_SVM, measure = \"tpr\", x.measure = \"fpr\")\n",
    "\n",
    "pred_NN <- prediction(yhat_NN, y_validation)\n",
    "perf_NN <- performance(pred_NN, measure = \"tpr\", x.measure = \"fpr\")"
   ]
  },
  {
   "cell_type": "code",
   "execution_count": null,
   "id": "908f3df2-0fea-4cc9-af13-4f7e2d1e1a8a",
   "metadata": {},
   "outputs": [],
   "source": [
    "# ROC\n",
    "plot(perf_l1, col=1, lwd=2, lty = \"solid\",main=\"ROC Curve for different predictive models\")\n",
    "plot(perf_l.5, col=2, lwd=2, add=T)\n",
    "plot(perf_l2, col=3, lwd=2, add=T)\n",
    "plot(perf_RF, col=4, lwd=2, add=T)\n",
    "plot(perf_SVM, col=5, lwd=2, add=T)\n",
    "plot(perf_NN, col=6, lwd=2, add=T)\n",
    "abline(0,1,lty=\"dashed\")\n",
    "\n",
    "# AUC\n",
    "A1=performance(pred_l1, \"auc\")@y.values[[1]]\n",
    "A2=performance(pred_l.5, \"auc\")@y.values[[1]]\n",
    "A3=performance(pred_l2, \"auc\")@y.values[[1]]\n",
    "A4=performance(pred_RF, \"auc\")@y.values[[1]]\n",
    "A5=performance(pred_SVM, \"auc\")@y.values[[1]]\n",
    "A6=performance(pred_NN, \"auc\")@y.values[[1]]\n",
    "\n",
    "L1 = c(\"Lasso\", \"EN\" , \"Ridge\" , \"RF\", \"SVM\", \"NN\")\n",
    "\n",
    "\n",
    "L1 = str_pad(L1,width=max(nchar(L1)),side=\"right\")\n",
    "\n",
    "L2 = format(round(c(A1,A2,A3,A4,A5,A6),4))\n",
    "\n",
    "L = paste(L1,L2,\" \")\n",
    "\n",
    "#lty=c(\"solid\",\"f8\",\"longdash\", \"dotdash\",\"dotted\",\"twodash\",\"11\")\n",
    "# 'black','red','darkgreen','green','blue','orange','violet'\n",
    "legend(0.55, 0.3, legend=L1,bty=\"n\",\n",
    "       col=c(1,2,3,4,5,6), lwd=2)\n",
    "\n",
    "legend(0.8, 0.3, legend=paste(\"(\",L2,\")\",sep=\"\"),bty=\"n\")"
   ]
  },
  {
   "cell_type": "markdown",
   "id": "047c06b9-5734-4804-8467-3af692155d88",
   "metadata": {},
   "source": [
    "#### 3.3 변수 중요도"
   ]
  },
  {
   "cell_type": "markdown",
   "id": "337d0e01-e9ec-47b7-b62c-d2331ed833cd",
   "metadata": {
    "jp-MarkdownHeadingCollapsed": true
   },
   "source": [
    "##### `-` 로지스틱 정규화: 계수"
   ]
  },
  {
   "cell_type": "code",
   "execution_count": null,
   "id": "cad54929-8185-4673-ae2f-de6df6f425cf",
   "metadata": {},
   "outputs": [],
   "source": [
    "coef(fit_l1, s = fit_l1$lambda.1se)"
   ]
  },
  {
   "cell_type": "markdown",
   "id": "eacb6947-4874-46ad-891d-fd3ab5590ff2",
   "metadata": {
    "jp-MarkdownHeadingCollapsed": true
   },
   "source": [
    "#### `-` 랜덤포레스트: MeanDecreaseGini"
   ]
  },
  {
   "cell_type": "code",
   "execution_count": null,
   "id": "c3697b33-77fa-4eb0-900c-8b0ca5fe4253",
   "metadata": {},
   "outputs": [],
   "source": [
    "feature_importance = importance(fit_RF)\n",
    "varImpPlot(fit_RF)\n",
    "head(round(feature_importance[order(-feature_importance[,1]), 1, drop=FALSE], 4), n=10)"
   ]
  }
 ],
 "metadata": {
  "kernelspec": {
   "display_name": "R",
   "language": "R",
   "name": "ir"
  },
  "language_info": {
   "codemirror_mode": "r",
   "file_extension": ".r",
   "mimetype": "text/x-r-source",
   "name": "R",
   "pygments_lexer": "r",
   "version": "4.3.2"
  }
 },
 "nbformat": 4,
 "nbformat_minor": 5
}
